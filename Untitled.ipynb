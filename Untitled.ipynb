{
 "cells": [
  {
   "cell_type": "code",
   "execution_count": 11,
   "metadata": {
    "collapsed": false,
    "scrolled": false
   },
   "outputs": [
    {
     "name": "stdout",
     "output_type": "stream",
     "text": [
      "('Data header is: ',       VNAResult\n",
      "0  10\\t-24.1503, '\\n')\n",
      "('Data column name is: ', Index([u'VNAResult'], dtype='object'), '\\n')\n",
      "('Data size is: ', (1500, 1), '\\n')\n"
     ]
    },
    {
     "data": {
      "image/png": "[encoded data removed]",
      "text/plain": [
       "<matplotlib.figure.Figure at 0xb5af160>"
      ]
     },
     "metadata": {},
     "output_type": "display_data"
    }
   ],
   "source": [
    "from PlottingCSV_8_Pandas import CSVplot8\n",
    "CSVplot8()"
   ]
  },
  {
   "cell_type": "code",
   "execution_count": null,
   "metadata": {
    "collapsed": true
   },
   "outputs": [],
   "source": []
  },
  {
   "cell_type": "code",
   "execution_count": null,
   "metadata": {
    "collapsed": true
   },
   "outputs": [],
   "source": []
  },
  {
   "cell_type": "code",
   "execution_count": 12,
   "metadata": {
    "collapsed": false
   },
   "outputs": [
    {
     "name": "stdout",
     "output_type": "stream",
     "text": [
      "('Data header is: ',       VNAResult\n",
      "0  10\\t-24.1503, '\\n')\n",
      "('Data column name is: ', Index([u'VNAResult'], dtype='object'), '\\n')\n",
      "('Data size is: ', (1500, 1), '\\n')\n"
     ]
    },
    {
     "data": {
      "image/png": "[encoded data removed]",
      "text/plain": [
       "<matplotlib.figure.Figure at 0xb6819b0>"
      ]
     },
     "metadata": {},
     "output_type": "display_data"
    }
   ],
   "source": [
    "def CSVplot8():\n",
    "\n",
    "\tfrom matplotlib import pyplot as plt\n",
    "\tfrom matplotlib import style\n",
    "\tfrom StringIO import StringIO\n",
    "\timport numpy as np    \n",
    "\timport pylab\n",
    "\timport pandas\n",
    "\timport csv\n",
    "\timport re\n",
    "\t\n",
    "\tfreq=[]\n",
    "\tRL=[]\n",
    "\tfactor=1000\t\n",
    "\t\n",
    "\n",
    "\tdata=pandas.read_csv(\"C:\\Users\\PythonExercise\\S4Test.csv\",sep='\\t', skiprows=0)\n",
    "\t#data=pandas.read_csv(\"C:\\Users\\PythonExercise\\S4Test.csv\",delimiter=\"\\t\",header=False,skiprows=1)\n",
    "\t#data=np.genfromtxt(\"C:\\Users\\PythonExercise\\S4Test.csv\",delimiter=\"\\t\",skip_header=1,dtype=\"U75\")\n",
    "\tprint(\"Data header is: \",data.head(1),\"\\n\")\n",
    "\tprint(\"Data column name is: \",data.columns,\"\\n\")\n",
    "\tprint(\"Data size is: \", data.shape,\"\\n\")\n",
    "\t#print(\"Data is \\n\" ,data)\n",
    "\t#data[:,0].astype(float)\n",
    "\t#print(data[:,0],type(data[:,0]))    \n",
    "\t#path=open(\"C:\\Users\\PythonExercise\\S3Test.csv\", \"r\")\n",
    "\t#data=path.read()\n",
    "\t#rows=data.split(\"\\n\",\"\\t\")\n",
    "\t#rows=re.split(r'[\\n\\t]',data)\n",
    "\t#rows=re.split(r'[\\n]',data)\n",
    "\tspara=[]\n",
    "\t\n",
    "\tfor row in data[1:len(data)]:\n",
    "\t\tspara.append(row)\n",
    "\t\t\t\n",
    "\tfor item in spara[0:len(spara)-1]:\n",
    "\t\t#print(item[0])\n",
    "\t\t#print(type(item[0]))\n",
    "\t\t#print(float(item[0])/factor)\n",
    "\t\t#freq.append(item[0])\n",
    "\t\tfreq.append(item[0]/factor)\n",
    "\t\t#IL.append( (item[len(item)-1]) /factor)\n",
    "\t\t#RL.append(float(item[1])/1)\n",
    "\t\tRL.append(item[1])\n",
    "\tplt.plot(freq,RL,'r--',label='loaded from S4Test.txt') #color='c', align='center')\n",
    "\tplt.title('S4 Return Loss_06/30')\n",
    "\tplt.ylabel('RL (dB)')\n",
    "\tplt.xlabel('Freq (GHz)')\n",
    "\tplt.legend()\n",
    "\tplt.show()\n",
    "\t\n",
    "\treturn\n",
    "CSVplot8()"
   ]
  },
  {
   "cell_type": "code",
   "execution_count": null,
   "metadata": {
    "collapsed": true
   },
   "outputs": [],
   "source": []
  },
  {
   "cell_type": "code",
   "execution_count": 3,
   "metadata": {
    "collapsed": false
   },
   "outputs": [
    {
     "name": "stdout",
     "output_type": "stream",
     "text": [
      "('There are', 100, 'cars available.')\n"
     ]
    }
   ],
   "source": [
    "cars = 100\n",
    "space_in_a_car = 4.0\n",
    "drivers = 30\n",
    "passengers = 90\n",
    "cars_not_driven = cars - drivers\n",
    "cars_driven = drivers\n",
    "carpool_capacity = cars_driven * space_in_a_car\n",
    "average_passengers_per_car = passengers / cars_driven\n",
    "\n",
    "\n",
    "print (\"There are\", cars, \"cars available.\")"
   ]
  },
  {
   "cell_type": "code",
   "execution_count": 4,
   "metadata": {
    "collapsed": false
   },
   "outputs": [
    {
     "name": "stdout",
     "output_type": "stream",
     "text": [
      "2\n"
     ]
    }
   ],
   "source": [
    "print(len(range(1,3)))"
   ]
  },
  {
   "cell_type": "code",
   "execution_count": 5,
   "metadata": {
    "collapsed": false
   },
   "outputs": [
    {
     "data": {
      "text/plain": [
       "[0, 1, 2]"
      ]
     },
     "execution_count": 5,
     "metadata": {},
     "output_type": "execute_result"
    }
   ],
   "source": [
    "range(3)"
   ]
  },
  {
   "cell_type": "code",
   "execution_count": 6,
   "metadata": {
    "collapsed": false
   },
   "outputs": [
    {
     "name": "stdout",
     "output_type": "stream",
     "text": [
      "('3\\n2', '\\n')\n"
     ]
    }
   ],
   "source": [
    "print(\"3\\n2\",\"\\n\")#\"%\\n\""
   ]
  },
  {
   "cell_type": "code",
   "execution_count": 7,
   "metadata": {
    "collapsed": false
   },
   "outputs": [
    {
     "name": "stdout",
     "output_type": "stream",
     "text": [
      "('3\\n2', '\\n')\n"
     ]
    }
   ],
   "source": [
    "print(\"3\\n2\",\"\\n\")"
   ]
  },
  {
   "cell_type": "code",
   "execution_count": 8,
   "metadata": {
    "collapsed": false
   },
   "outputs": [
    {
     "name": "stdout",
     "output_type": "stream",
     "text": [
      "%2\n",
      "3\n"
     ]
    }
   ],
   "source": [
    "print(\"%2\\n3\")"
   ]
  },
  {
   "cell_type": "code",
   "execution_count": 9,
   "metadata": {
    "collapsed": false
   },
   "outputs": [
    {
     "ename": "NameError",
     "evalue": "name 'plt' is not defined",
     "output_type": "error",
     "traceback": [
      "\u001b[0;31m---------------------------------------------------------------------------\u001b[0m",
      "\u001b[0;31mNameError\u001b[0m                                 Traceback (most recent call last)",
      "\u001b[0;32m<ipython-input-9-714b16dd4834>\u001b[0m in \u001b[0;36m<module>\u001b[0;34m()\u001b[0m\n\u001b[1;32m      4\u001b[0m \u001b[1;31m#self.ball = None\u001b[0m\u001b[1;33m\u001b[0m\u001b[1;33m\u001b[0m\u001b[0m\n\u001b[1;32m      5\u001b[0m \u001b[0mpocketOdds\u001b[0m \u001b[1;33m=\u001b[0m \u001b[0mlen\u001b[0m\u001b[1;33m(\u001b[0m\u001b[0ml\u001b[0m\u001b[1;33m)\u001b[0m \u001b[1;33m-\u001b[0m\u001b[1;36m1\u001b[0m\u001b[1;33m\u001b[0m\u001b[0m\n\u001b[0;32m----> 6\u001b[0;31m \u001b[0mplt\u001b[0m\u001b[1;33m.\u001b[0m\u001b[0mplot\u001b[0m\u001b[1;33m(\u001b[0m\u001b[0ml\u001b[0m\u001b[1;33m)\u001b[0m\u001b[1;33m\u001b[0m\u001b[0m\n\u001b[0m\u001b[1;32m      7\u001b[0m \u001b[0mplt\u001b[0m\u001b[1;33m.\u001b[0m\u001b[0mshow\u001b[0m\u001b[1;33m(\u001b[0m\u001b[1;33m)\u001b[0m\u001b[1;33m\u001b[0m\u001b[0m\n\u001b[1;32m      8\u001b[0m \u001b[1;32mprint\u001b[0m\u001b[1;33m(\u001b[0m\u001b[1;34m\"pocket Odds is: \"\u001b[0m\u001b[1;33m,\u001b[0m \u001b[0mpocketOdds\u001b[0m\u001b[1;33m)\u001b[0m\u001b[1;33m\u001b[0m\u001b[0m\n",
      "\u001b[0;31mNameError\u001b[0m: name 'plt' is not defined"
     ]
    }
   ],
   "source": [
    "l=[]\n",
    "for i in range(1,37):\n",
    "    l.append(i)\n",
    "#self.ball = None\n",
    "pocketOdds = len(l) -1\n",
    "plt.plot(l)\n",
    "plt.show()\n",
    "print(\"pocket Odds is: \", pocketOdds)"
   ]
  },
  {
   "cell_type": "code",
   "execution_count": null,
   "metadata": {
    "collapsed": false
   },
   "outputs": [],
   "source": [
    "import math\n",
    "import numpy\n",
    "from matplotlib import pyplot as plt\n",
    "s=100\n",
    "stepsize=1\n",
    "x=range(-s,s,stepsize)\n",
    "y=[]\n",
    "CDF=[]\n",
    "#print(x)\n",
    "for i in x:\n",
    "    y.append(1/((2*3.1415926)**0.5)*math.exp(-1/2*(i**2)))\n",
    "    CDF.append(1/((2*3.1415926)**0.5)*)\n",
    "    #print(y)\n",
    "#plt.plot(x,y,'r-')\n",
    "print(\"length of x is: \", len(x))\n",
    "print(\"length of y is: \", len(y))\n",
    "plt.plot(x)\n",
    "plt.show()\n",
    "plt.plot(y)\n",
    "plt.show()    "
   ]
  },
  {
   "cell_type": "code",
   "execution_count": null,
   "metadata": {
    "collapsed": false
   },
   "outputs": [],
   "source": [
    "dist, numSamples= [], 1000000\n",
    "for i in range(numSamples):\n",
    "\tdist.append(random.gauss(0, 100))\n",
    "\t\n",
    "weights = [1/numSamples]*len(dist)\n",
    "v = pylab.hist(dist, bins = 100,weights = [1/numSamples]*len(dist))\n",
    "pylab.xlabel('x')\n",
    "pylab.ylabel('Relative Frequency')\n",
    "print('Fraction within ~200 of mean =',sum(v[0][30:70]))"
   ]
  },
  {
   "cell_type": "code",
   "execution_count": null,
   "metadata": {
    "collapsed": false
   },
   "outputs": [],
   "source": [
    "import random\n",
    "import math\n",
    "import numpy\n",
    "from matplotlib import pyplot as plt\n",
    "import pylab\n",
    "\n",
    "dist, numSamples= [], 100\n",
    "for i in range(numSamples):\n",
    "\tdist.append(random.gauss(0, 100))\n",
    "\n",
    "print(type(dist),len(dist))\n",
    "    \n",
    "v = pylab.hist(dist, bins = 100, weights = [float(1/numSamples)]*len(dist))\n",
    "pylab.xlabel('x')\n",
    "pylab.ylabel('Relative Frequency')\n",
    "pylab.show()\n",
    "print('Fraction within ~200 of mean =',sum(v[0][30:70]))"
   ]
  },
  {
   "cell_type": "code",
   "execution_count": null,
   "metadata": {
    "collapsed": true
   },
   "outputs": [],
   "source": []
  },
  {
   "cell_type": "code",
   "execution_count": null,
   "metadata": {
    "collapsed": true
   },
   "outputs": [],
   "source": []
  },
  {
   "cell_type": "code",
   "execution_count": null,
   "metadata": {
    "collapsed": true
   },
   "outputs": [],
   "source": []
  },
  {
   "cell_type": "code",
   "execution_count": null,
   "metadata": {
    "collapsed": true
   },
   "outputs": [],
   "source": []
  },
  {
   "cell_type": "code",
   "execution_count": 26,
   "metadata": {
    "collapsed": false
   },
   "outputs": [
    {
     "name": "stdout",
     "output_type": "stream",
     "text": [
      "[1, 2, 3, 4, 5, 6, 7, 8, 9]\n",
      "('/n', [0.1, 0.1, 0.1, 0.1, 0.1])\n"
     ]
    }
   ],
   "source": [
    "import random\n",
    "import math\n",
    "import numpy\n",
    "from matplotlib import pyplot as plt\n",
    "import pylab\n",
    "\n",
    "#dist, numSamples= [], 1000000\n",
    "num=10.0\n",
    "dist=range(1,10,1)\n",
    "weight=[1/num]*5\n",
    "print(dist)\n",
    "print(\"/n\",weight)"
   ]
  },
  {
   "cell_type": "code",
   "execution_count": null,
   "metadata": {
    "collapsed": true
   },
   "outputs": [],
   "source": []
  },
  {
   "cell_type": "code",
   "execution_count": null,
   "metadata": {
    "collapsed": true
   },
   "outputs": [],
   "source": []
  },
  {
   "cell_type": "code",
   "execution_count": null,
   "metadata": {
    "collapsed": true
   },
   "outputs": [],
   "source": []
  },
  {
   "cell_type": "code",
   "execution_count": null,
   "metadata": {
    "collapsed": true
   },
   "outputs": [],
   "source": []
  },
  {
   "cell_type": "code",
   "execution_count": null,
   "metadata": {
    "collapsed": true
   },
   "outputs": [],
   "source": []
  },
  {
   "cell_type": "code",
   "execution_count": null,
   "metadata": {
    "collapsed": true
   },
   "outputs": [],
   "source": []
  },
  {
   "cell_type": "code",
   "execution_count": null,
   "metadata": {
    "collapsed": true
   },
   "outputs": [],
   "source": []
  },
  {
   "cell_type": "code",
   "execution_count": null,
   "metadata": {
    "collapsed": true
   },
   "outputs": [],
   "source": []
  },
  {
   "cell_type": "code",
   "execution_count": null,
   "metadata": {
    "collapsed": true
   },
   "outputs": [],
   "source": []
  },
  {
   "cell_type": "code",
   "execution_count": null,
   "metadata": {
    "collapsed": true
   },
   "outputs": [],
   "source": []
  },
  {
   "cell_type": "code",
   "execution_count": null,
   "metadata": {
    "collapsed": true
   },
   "outputs": [],
   "source": []
  },
  {
   "cell_type": "code",
   "execution_count": null,
   "metadata": {
    "collapsed": true
   },
   "outputs": [],
   "source": []
  },
  {
   "cell_type": "code",
   "execution_count": null,
   "metadata": {
    "collapsed": true
   },
   "outputs": [],
   "source": []
  },
  {
   "cell_type": "code",
   "execution_count": null,
   "metadata": {
    "collapsed": true
   },
   "outputs": [],
   "source": []
  },
  {
   "cell_type": "code",
   "execution_count": null,
   "metadata": {
    "collapsed": true
   },
   "outputs": [],
   "source": []
  },
  {
   "cell_type": "code",
   "execution_count": null,
   "metadata": {
    "collapsed": true
   },
   "outputs": [],
   "source": []
  },
  {
   "cell_type": "code",
   "execution_count": null,
   "metadata": {
    "collapsed": true
   },
   "outputs": [],
   "source": []
  },
  {
   "cell_type": "code",
   "execution_count": null,
   "metadata": {
    "collapsed": true
   },
   "outputs": [],
   "source": []
  },
  {
   "cell_type": "code",
   "execution_count": null,
   "metadata": {
    "collapsed": true
   },
   "outputs": [],
   "source": []
  },
  {
   "cell_type": "code",
   "execution_count": null,
   "metadata": {
    "collapsed": true
   },
   "outputs": [],
   "source": []
  },
  {
   "cell_type": "code",
   "execution_count": null,
   "metadata": {
    "collapsed": true
   },
   "outputs": [],
   "source": []
  },
  {
   "cell_type": "code",
   "execution_count": null,
   "metadata": {
    "collapsed": true
   },
   "outputs": [],
   "source": []
  },
  {
   "cell_type": "code",
   "execution_count": null,
   "metadata": {
    "collapsed": true
   },
   "outputs": [],
   "source": []
  },
  {
   "cell_type": "code",
   "execution_count": null,
   "metadata": {
    "collapsed": true
   },
   "outputs": [],
   "source": []
  },
  {
   "cell_type": "code",
   "execution_count": null,
   "metadata": {
    "collapsed": true
   },
   "outputs": [],
   "source": []
  },
  {
   "cell_type": "code",
   "execution_count": null,
   "metadata": {
    "collapsed": true
   },
   "outputs": [],
   "source": []
  },
  {
   "cell_type": "code",
   "execution_count": null,
   "metadata": {
    "collapsed": true
   },
   "outputs": [],
   "source": []
  },
  {
   "cell_type": "code",
   "execution_count": null,
   "metadata": {
    "collapsed": true
   },
   "outputs": [],
   "source": []
  },
  {
   "cell_type": "code",
   "execution_count": null,
   "metadata": {
    "collapsed": true
   },
   "outputs": [],
   "source": []
  },
  {
   "cell_type": "code",
   "execution_count": null,
   "metadata": {
    "collapsed": true
   },
   "outputs": [],
   "source": []
  },
  {
   "cell_type": "code",
   "execution_count": null,
   "metadata": {
    "collapsed": true
   },
   "outputs": [],
   "source": []
  },
  {
   "cell_type": "code",
   "execution_count": null,
   "metadata": {
    "collapsed": true
   },
   "outputs": [],
   "source": []
  },
  {
   "cell_type": "code",
   "execution_count": null,
   "metadata": {
    "collapsed": true
   },
   "outputs": [],
   "source": []
  },
  {
   "cell_type": "code",
   "execution_count": null,
   "metadata": {
    "collapsed": true
   },
   "outputs": [],
   "source": []
  },
  {
   "cell_type": "code",
   "execution_count": null,
   "metadata": {
    "collapsed": true
   },
   "outputs": [],
   "source": []
  },
  {
   "cell_type": "code",
   "execution_count": null,
   "metadata": {
    "collapsed": true
   },
   "outputs": [],
   "source": []
  },
  {
   "cell_type": "code",
   "execution_count": null,
   "metadata": {
    "collapsed": true
   },
   "outputs": [],
   "source": []
  },
  {
   "cell_type": "code",
   "execution_count": null,
   "metadata": {
    "collapsed": true
   },
   "outputs": [],
   "source": []
  },
  {
   "cell_type": "code",
   "execution_count": null,
   "metadata": {
    "collapsed": true
   },
   "outputs": [],
   "source": []
  },
  {
   "cell_type": "code",
   "execution_count": null,
   "metadata": {
    "collapsed": true
   },
   "outputs": [],
   "source": []
  },
  {
   "cell_type": "code",
   "execution_count": null,
   "metadata": {
    "collapsed": true
   },
   "outputs": [],
   "source": []
  },
  {
   "cell_type": "code",
   "execution_count": null,
   "metadata": {
    "collapsed": true
   },
   "outputs": [],
   "source": []
  },
  {
   "cell_type": "code",
   "execution_count": null,
   "metadata": {
    "collapsed": true
   },
   "outputs": [],
   "source": []
  },
  {
   "cell_type": "code",
   "execution_count": null,
   "metadata": {
    "collapsed": true
   },
   "outputs": [],
   "source": []
  },
  {
   "cell_type": "code",
   "execution_count": null,
   "metadata": {
    "collapsed": true
   },
   "outputs": [],
   "source": []
  },
  {
   "cell_type": "code",
   "execution_count": null,
   "metadata": {
    "collapsed": true
   },
   "outputs": [],
   "source": []
  },
  {
   "cell_type": "code",
   "execution_count": null,
   "metadata": {
    "collapsed": false
   },
   "outputs": [],
   "source": [
    "from PlottingCSV_6 import CSVplot6\n",
    "CSVplot6()"
   ]
  },
  {
   "cell_type": "code",
   "execution_count": null,
   "metadata": {
    "collapsed": false
   },
   "outputs": [],
   "source": [
    "l=[1,2,3]\n",
    "m=[5,6]\n",
    "print(\"l+m is: \", l+m,\"\\n\")\n",
    "l.append(m)\n",
    "print(\"\\n\"+\" l.append m is: \",l)\n",
    "#l.append(m)\n",
    "l.extend(m)\n",
    "print(\"\\n l.extend m is: \",l)"
   ]
  },
  {
   "cell_type": "code",
   "execution_count": null,
   "metadata": {
    "collapsed": false
   },
   "outputs": [],
   "source": [
    "l=[1,2,3]\n",
    "m=[1,2,1]\n",
    "print(\"4*l is: \", 4*l)\n",
    "print(range(1,3))\n",
    "print(range(0,3))\n",
    "print(2**4, 2*4)"
   ]
  },
  {
   "cell_type": "code",
   "execution_count": null,
   "metadata": {
    "collapsed": false
   },
   "outputs": [],
   "source": [
    "from matplotlib import pyplot as plt\n",
    "from matplotlib import style\n",
    "from StringIO import StringIO\n",
    "#import pylab\n",
    "import numpy as np    \n",
    "import pandas\n",
    "import csv\n",
    "import re\n",
    "possibleDates = 4*list(range(0, 57)) + [58]+4*list(range(59, 366))+4*list(range(180, 270))\n",
    "t_date=range(0,366)\n",
    "plt.plot(possibleDates,'b-',label='loaded from S4Test.txt',) #color='c', align='center')\n",
    "plt.title('Plot')\n",
    "plt.ylabel('Weighting Factor')\n",
    "plt.xlabel('Date of the year')\n",
    "plt.legend()\n",
    "plt.show()"
   ]
  },
  {
   "cell_type": "code",
   "execution_count": null,
   "metadata": {
    "collapsed": false
   },
   "outputs": [],
   "source": [
    "l*m"
   ]
  },
  {
   "cell_type": "code",
   "execution_count": null,
   "metadata": {
    "collapsed": false
   },
   "outputs": [],
   "source": [
    "import numpy as np\n",
    "vector=np.array([1,2,3])\n",
    "print(type(vector),len(vector))"
   ]
  },
  {
   "cell_type": "code",
   "execution_count": null,
   "metadata": {
    "collapsed": true
   },
   "outputs": [],
   "source": []
  },
  {
   "cell_type": "code",
   "execution_count": null,
   "metadata": {
    "collapsed": false
   },
   "outputs": [],
   "source": [
    "from matplotlib import pyplot as plt\n",
    "from matplotlib import style\n",
    "from StringIO import StringIO\n",
    "import numpy as np    \n",
    "import pylab\n",
    "import pandas\n",
    "import csv\n",
    "import re\n",
    "x=[1000, 2000]\n",
    "y=[]\n",
    "for xr in x:\n",
    "    y.append(xr/1000)\n",
    "    \n",
    "plt.plot(x,y,'r--',label='test') #color='c', align='center')\n",
    "plt.title('test_06/30')\n",
    "plt.ylabel('x/1000')\n",
    "plt.xlabel('x')\n",
    "plt.legend()\n",
    "plt.show()"
   ]
  },
  {
   "cell_type": "code",
   "execution_count": null,
   "metadata": {
    "collapsed": true
   },
   "outputs": [],
   "source": []
  },
  {
   "cell_type": "code",
   "execution_count": null,
   "metadata": {
    "collapsed": true
   },
   "outputs": [],
   "source": []
  },
  {
   "cell_type": "code",
   "execution_count": null,
   "metadata": {
    "collapsed": true
   },
   "outputs": [],
   "source": []
  },
  {
   "cell_type": "markdown",
   "metadata": {},
   "source": [
    "#Birth Dates\n",
    "\n",
    "## we'll\n",
    "# Birth Dates\n",
    "we'll \n"
   ]
  },
  {
   "cell_type": "markdown",
   "metadata": {},
   "source": []
  },
  {
   "cell_type": "markdown",
   "metadata": {},
   "source": []
  },
  {
   "cell_type": "markdown",
   "metadata": {},
   "source": []
  }
 ],
 "metadata": {
  "kernelspec": {
   "display_name": "Python 2",
   "language": "python",
   "name": "python2"
  },
  "language_info": {
   "codemirror_mode": {
    "name": "ipython",
    "version": 2
   },
   "file_extension": ".py",
   "mimetype": "text/x-python",
   "name": "python",
   "nbconvert_exporter": "python",
   "pygments_lexer": "ipython2",
   "version": "2.7.13"
  }
 },
 "nbformat": 4,
 "nbformat_minor": 2
}
